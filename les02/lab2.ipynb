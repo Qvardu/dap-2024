{
  "cells": [
    {
      "cell_type": "markdown",
      "metadata": {
        "id": "ME1DC30R6lgT"
      },
      "source": [
        "# Лабораторная работа №2. Основы Python"
      ]
    },
    {
      "cell_type": "markdown",
      "metadata": {
        "id": "NL6gAcaz6lgV"
      },
      "source": [
        "## Задание"
      ]
    },
    {
      "cell_type": "markdown",
      "metadata": {
        "id": "ZJEZ8Coy6lgV"
      },
      "source": [
        "Выполните следующие задания:\n",
        "\n",
        "1. Откройте в файл в Google Colab (используйте собственный форк репозитория).\n",
        "2. Решите задачи.\n",
        "3. Сохраните результат в ваш репозиторий github в директорию ./les02\n",
        "4. Создайте pull request в репозиторий https://github.com/chebotarevsa/dap-2024. Название pull request должно иметь формат \"<Номер лабораторной работы>  <Номер группы> <ФИО>\"\n",
        "5. Сдайте работу в системе \"Пегас\", в отчет укажите ссылку на pull request"
      ]
    },
    {
      "cell_type": "markdown",
      "metadata": {
        "id": "cAFDOPom6lgV"
      },
      "source": [
        "Задача №1. https://leetcode.com/problems/two-sum/"
      ]
    },
    {
      "cell_type": "code",
      "execution_count": null,
      "metadata": {
        "id": "fR_bTnj76lgW"
      },
      "outputs": [],
      "source": [
        "class Solution1(object):\n",
        "    def twoSum(self, nums, target):\n",
        "        \"\"\"\n",
        "        :type nums: List[int]\n",
        "        :type target: int\n",
        "        :rtype: List[int]\n",
        "        \"\"\"\n",
        "        # Ваше решение\n",
        "        num_map = {}\n",
        "\n",
        "        for i, num in enumerate(nums):\n",
        "            complement = target - num\n",
        "            if complement in num_map:\n",
        "                return [num_map[complement], i]\n",
        "            num_map[num] = i\n",
        "        return []"
      ]
    },
    {
      "cell_type": "markdown",
      "metadata": {
        "id": "jxwpJcUJ6lgW"
      },
      "source": [
        "Задача №2. https://leetcode.com/problems/palindrome-number/description/"
      ]
    },
    {
      "cell_type": "code",
      "execution_count": null,
      "metadata": {
        "id": "mqWUKehM6lgW"
      },
      "outputs": [],
      "source": [
        "class Solution2(object):\n",
        "    def isPalindrome(self, x):\n",
        "        \"\"\"\n",
        "        :type x: int\n",
        "        :rtype: bool\n",
        "        \"\"\"\n",
        "\n",
        "        if x < 0 or (x % 10 == 0 and x != 0):\n",
        "            return False\n",
        "        return str(x) == str(x)[::-1]\n"
      ]
    },
    {
      "cell_type": "markdown",
      "metadata": {
        "id": "EuP4ONGm6lgX"
      },
      "source": [
        "Задача №3. https://leetcode.com/problems/roman-to-integer/description/"
      ]
    },
    {
      "cell_type": "code",
      "execution_count": null,
      "metadata": {
        "id": "R-KTqkhC6lgX"
      },
      "outputs": [],
      "source": [
        "class Solution(object):\n",
        "    def romanToInt(self, s):\n",
        "        \"\"\"\n",
        "        :type s: str\n",
        "        :rtype: int\n",
        "        \"\"\"\n",
        "\n",
        "        roman_to_int = {\n",
        "            'I': 1,\n",
        "            'V': 5,\n",
        "            'X': 10,\n",
        "            'L': 50,\n",
        "            'C': 100,\n",
        "            'D': 500,\n",
        "            'M': 1000\n",
        "        }\n",
        "\n",
        "        total = 0\n",
        "        prev_value = 0\n",
        "\n",
        "        for char in reversed(s):\n",
        "            current_value = roman_to_int[char]\n",
        "            if current_value < prev_value:\n",
        "                total -= current_value\n",
        "            else:\n",
        "                total += current_value\n",
        "            prev_value = current_value\n",
        "\n",
        "        return total"
      ]
    },
    {
      "cell_type": "markdown",
      "metadata": {
        "id": "cASjdcn16lgX"
      },
      "source": [
        "Задача №4. https://leetcode.com/problems/longest-common-prefix/description/"
      ]
    },
    {
      "cell_type": "code",
      "execution_count": null,
      "metadata": {
        "id": "cjzZ-tsu6lgX"
      },
      "outputs": [],
      "source": [
        "class Solution(object):\n",
        "    def longestCommonPrefix(self, strs):\n",
        "        \"\"\"\n",
        "        :type strs: List[str]\n",
        "        :rtype: str\n",
        "        \"\"\"\n",
        "        if not strs:\n",
        "            return \"\"\n",
        "\n",
        "        strs.sort()\n",
        "        first = strs[0]\n",
        "        last = strs[-1]\n",
        "\n",
        "        i = 0\n",
        "        while i < len(first) and i < len(last) and first[i] == last[i]:\n",
        "            i += 1\n",
        "\n",
        "        return first[:i]\n"
      ]
    },
    {
      "cell_type": "markdown",
      "metadata": {
        "id": "gIrMSKVm6lgX"
      },
      "source": [
        "Задача №5. https://leetcode.com/problems/merge-two-sorted-lists/description/"
      ]
    },
    {
      "cell_type": "code",
      "execution_count": null,
      "metadata": {
        "id": "11oDxHQd6lgX"
      },
      "outputs": [],
      "source": [
        "class Solution(object):\n",
        "    def mergeTwoLists(self, list1, list2):\n",
        "        \"\"\"\n",
        "        :type list1: Optional[ListNode]\n",
        "        :type list2: Optional[ListNode]\n",
        "        :rtype: Optional[ListNode]\n",
        "        \"\"\"\n",
        "        dummy = ListNode()\n",
        "        current = dummy\n",
        "\n",
        "        while list1 and list2:\n",
        "            if list1.val < list2.val:\n",
        "                current.next = list1\n",
        "                list1 = list1.next\n",
        "            else:\n",
        "                current.next = list2\n",
        "                list2 = list2.next\n",
        "            current = current.next\n",
        "\n",
        "        current.next = list1 if list1 else list2\n",
        "\n",
        "        return dummy.next\n"
      ]
    },
    {
      "cell_type": "markdown",
      "metadata": {
        "id": "vt8nB2vr6lgY"
      },
      "source": [
        "Задача №6. https://leetcode.com/problems/longest-substring-without-repeating-characters/description/"
      ]
    },
    {
      "cell_type": "code",
      "execution_count": null,
      "metadata": {
        "id": "IlEBviCL6lgY"
      },
      "outputs": [],
      "source": [
        "class Solution(object):\n",
        "    def lengthOfLongestSubstring(self, s):\n",
        "        \"\"\"\n",
        "        :type s: str\n",
        "        :rtype: int\n",
        "        \"\"\"\n",
        "        char_set = set()\n",
        "        start = 0\n",
        "        max_length = 0\n",
        "\n",
        "        for end in range(len(s)):\n",
        "            while s[end] in char_set:\n",
        "                char_set.remove(s[start])\n",
        "                start += 1\n",
        "            char_set.add(s[end])\n",
        "            max_length = max(max_length, end - start + 1)\n",
        "\n",
        "        return max_length\n"
      ]
    },
    {
      "cell_type": "markdown",
      "metadata": {
        "id": "GEt2Tswh6lgY"
      },
      "source": [
        "## Вопросы\n",
        "\n",
        "1. Что такое динамическая типизация и чем она отличается от статической?\n",
        "2. Чем отличается цикл for в Python от цикла for в С++?\n",
        "3. Для чего предназначены операторы continue и break?\n",
        "4. Как определить функцию в python? Может ли функция возвращать несколько значений?\n",
        "5. Что такое лямбда функции и для чего они предназначены?\n",
        "6. Может ли тело функции содержать определение другой функции?\n",
        "7. Как определить класс в python? Для чего нужна переменная self?\n",
        "8. Как определить приватный метод? Можно ли вызвать приватный метод за пределами класса?\n",
        "9. Как определить статический метод класса? Для чего может понадобиться статический метод?\n",
        "10. Чем staticmethod отличается от classmethod?\n",
        "11. Как определить собственный класс исключений Python? Как выбросить и перехватить исключение?\n",
        "12. Что такое картеж, для чего он используется?\n"
      ]
    }
  ],
  "metadata": {
    "language_info": {
      "name": "python"
    },
    "colab": {
      "provenance": []
    }
  },
  "nbformat": 4,
  "nbformat_minor": 0
}