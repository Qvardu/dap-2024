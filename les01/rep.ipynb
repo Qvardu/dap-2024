{
  "cells": [
    {
      "cell_type": "markdown",
      "metadata": {
        "id": "KZSZh8ps1ISL"
      },
      "source": [
        "# Отчет по лабораторной работе №1 Тема работы «Подготовка среды для анализа данных »\n",
        "по дисциплине « Анализ данных на Python»\n",
        "\n",
        "студента очного отделения 2 курса 12002209 группы\n",
        "\n",
        "Зиньковского Данила Дмитриевича\n",
        "\n",
        "Проверил: Чеботарев Сергей Александрович"
      ]
    },
    {
      "cell_type": "markdown",
      "metadata": {
        "id": "rJuO0en01ISM"
      },
      "source": [
        "## Цель работы"
      ]
    },
    {
      "cell_type": "markdown",
      "metadata": {
        "id": "sNA44G-Q1ISN"
      },
      "source": [
        "\n",
        "Подготовка средст для анализа данных на python"
      ]
    },
    {
      "cell_type": "markdown",
      "metadata": {
        "id": "ZugIK6TC1ISN"
      },
      "source": [
        "## Общая постановка задачи"
      ]
    },
    {
      "cell_type": "markdown",
      "metadata": {
        "id": "TAybhdkZ1ISN"
      },
      "source": [
        "Создайте учетную запись в сервисе GitHub\n",
        "\n",
        "Выполните форк репозитория https://github.com/chebotarevsa/dap-2024\n",
        "\n",
        "Создайте учетную запись в Google Colab\n",
        "\n",
        "Настройте интеграцию Google Colab и GitHub\n",
        "\n",
        "Создайте в Google Colab отчет о выполненой работе в виде файла rep.ipynb .\n",
        " Используйте Markdown разметку (заголовки, списки, форматированный текст, ссылки)\n",
        "\n",
        "Сохраните отчет в ваш репозиторий github в директории ./les01\n",
        "\n",
        "Создайте pull request в репозиторий https://github.com/chebotarevsa/dap-2024.\n",
        "\n",
        "Название pull request должно иметь формат \"<Номер лабораторной работы> <Номер группы> <ФИО>\"\n",
        "\n",
        "Сдайте работу в системе \"Пегас\", в отчет укажите ссылку на pull request"
      ]
    }
  ],
  "metadata": {
    "language_info": {
      "name": "python"
    },
    "colab": {
      "provenance": []
    }
  },
  "nbformat": 4,
  "nbformat_minor": 0
}